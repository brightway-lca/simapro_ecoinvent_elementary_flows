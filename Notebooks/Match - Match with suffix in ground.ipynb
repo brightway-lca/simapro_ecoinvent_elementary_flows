{
 "cells": [
  {
   "cell_type": "markdown",
   "id": "d671a1da-94b0-4732-83d1-ffdc1801b110",
   "metadata": {},
   "source": [
    "# Match with suffix `in ground`\n",
    "\n",
    "There are many flows which are exactly the same, but where ecoinvent has the suffix `, in ground` which is missing in SimaPro, e.g.\n",
    "\n",
    "* Copper, 0.52% in sulfide, Cu 0.27% and Mo 8.2E-3% in crude ore\n",
    "* Copper, 0.52% in sulfide, Cu 0.27% and Mo 8.2E-3% in crude ore, in ground\n",
    "\n",
    "These are all natural resources; `('Resource', 'in ground')` in SimaPro, `('natural resource', 'in ground')` in ecoinvent."
   ]
  },
  {
   "cell_type": "code",
   "execution_count": 1,
   "id": "97dd6915-0af6-4563-8284-ad7b07d26036",
   "metadata": {},
   "outputs": [],
   "source": [
    "import pandas as pd\n",
    "from pathlib import Path"
   ]
  },
  {
   "cell_type": "code",
   "execution_count": 22,
   "id": "4aff657d-cb27-4dde-aea7-e3d907a6f55f",
   "metadata": {},
   "outputs": [],
   "source": [
    "input_data_dir = (Path.cwd().parent / \"Mapping\" / \"Input\" / \"Flowlists\").resolve()\n",
    "output_dir = (Path.cwd().parent / \"Contribute\").resolve()"
   ]
  },
  {
   "cell_type": "code",
   "execution_count": 3,
   "id": "df061563-9872-4d69-93de-b7aac700c31f",
   "metadata": {},
   "outputs": [],
   "source": [
    "sp = pd.read_csv(input_data_dir / 'SimaProv9.4.csv')"
   ]
  },
  {
   "cell_type": "markdown",
   "id": "178a0950-55b9-4ad5-8bb1-49ccd6104afa",
   "metadata": {},
   "source": [
    "Add additional column to `sp` with `in ground`"
   ]
  },
  {
   "cell_type": "code",
   "execution_count": 4,
   "id": "b0f96afe-7476-4a88-bfe7-cdfc28db0c9d",
   "metadata": {},
   "outputs": [],
   "source": [
    "sp['plus_in_ground'] = sp.Flowable.apply(lambda x: x + \", in ground\")"
   ]
  },
  {
   "cell_type": "markdown",
   "id": "660ba6bd-c3f9-431f-8978-d2e5de8d9f6f",
   "metadata": {},
   "source": [
    "Filter to only consider natural resources:"
   ]
  },
  {
   "cell_type": "code",
   "execution_count": 5,
   "id": "f2938c54-de0f-4e71-bf8a-31e40b4b6f46",
   "metadata": {},
   "outputs": [],
   "source": [
    "sp = sp[sp.Context == 'Raw materials']"
   ]
  },
  {
   "cell_type": "code",
   "execution_count": 6,
   "id": "f9b61570-d3dc-4549-9814-02002d94171a",
   "metadata": {},
   "outputs": [],
   "source": [
    "ei = pd.read_csv(input_data_dir / 'ecoinventEFv3.7.csv')"
   ]
  },
  {
   "cell_type": "code",
   "execution_count": 7,
   "id": "f12a20c8-b988-4343-9f67-ab8920176fda",
   "metadata": {},
   "outputs": [
    {
     "data": {
      "text/plain": [
       "Index(['Flowable', 'CASNo', 'Formula', 'Synonyms', 'Unit', 'Class',\n",
       "       'ExternalReference', 'Preferred', 'Context', 'FlowUUID', 'AltUnit',\n",
       "       'Unnamed: 11', 'Second CAS'],\n",
       "      dtype='object')"
      ]
     },
     "execution_count": 7,
     "metadata": {},
     "output_type": "execute_result"
    }
   ],
   "source": [
    "ei.columns"
   ]
  },
  {
   "cell_type": "code",
   "execution_count": 9,
   "id": "4679c1b8-cd17-46c5-ad20-6b037f900d3a",
   "metadata": {},
   "outputs": [
    {
     "data": {
      "text/plain": [
       "167"
      ]
     },
     "execution_count": 9,
     "metadata": {},
     "output_type": "execute_result"
    }
   ],
   "source": [
    "df = sp.merge(ei, how=\"inner\", left_on=\"plus_in_ground\", right_on=\"Flowable\")\n",
    "len(df)"
   ]
  },
  {
   "cell_type": "markdown",
   "id": "9b0d3273-0ba6-4e44-bdd7-3cc52b1377ac",
   "metadata": {},
   "source": [
    "Adjust columns to match expectd format"
   ]
  },
  {
   "cell_type": "code",
   "execution_count": 10,
   "id": "031ccb41-da4e-4e5d-a678-7cca5faa8c43",
   "metadata": {},
   "outputs": [],
   "source": [
    "df = df.rename(columns={\n",
    "    'Flowable_x': 'SourceFlowName', \n",
    "    'Flow UUID': 'SourceFlowUUID', \n",
    "    'Unit_x': 'SourceUnit',\n",
    "    'FlowUUID': 'TargetFlowUUID',\n",
    "    'Context_y': 'TargetFlowContext',\n",
    "    'Unit_y': 'TargetUnit',\n",
    "    'Flowable_y': 'TargetFlowName',\n",
    "    'Unit_y': 'TargetUnit',\n",
    "})"
   ]
  },
  {
   "cell_type": "markdown",
   "id": "1f417efd-2258-4608-9ccc-ad9d6cba69e4",
   "metadata": {},
   "source": [
    "Add some useful columns:"
   ]
  },
  {
   "cell_type": "code",
   "execution_count": 11,
   "id": "53603a21-53d7-4c6c-94bd-73bd52cb96d6",
   "metadata": {},
   "outputs": [],
   "source": [
    "df['SourceListName'] = 'SimaPro9.4'\n",
    "df['TargetListName'] = 'ecoinventEFv3.7'\n",
    "df['SourceFlowContext'] = 'Resource/in ground'\n",
    "df['MatchCondition'] = \"=\"\n",
    "df['Mapper'] = 'Chris Mutel'\n",
    "df['MemoMapper'] = 'Automated match. Notebook: Match - Match with suffix in ground'\n",
    "df['Verifier'] = ''"
   ]
  },
  {
   "cell_type": "code",
   "execution_count": 23,
   "id": "0bf16e12-6c54-4013-826e-cba7d7c1dc58",
   "metadata": {},
   "outputs": [],
   "source": [
    "def export_dataframe(df, name):\n",
    "    SPEC_COLUMNS = [\n",
    "        \"SourceListName\", \"SourceFlowName\", \"SourceFlowUUID\", \"SourceFlowContext\", \"SourceUnit\", \n",
    "        \"MatchCondition\", \"ConversionFactor\", \"TargetListName\", \"TargetFlowName\", \"TargetFlowUUID\", \n",
    "        \"TargetFlowContext\", \"TargetUnit\", \"Mapper\", \"Verifier\", \"LastUpdated\", \"MemoMapper\", \n",
    "        \"MemoVerifier\", \"MemoSource\", \"MemoTarget\"\n",
    "    ]\n",
    "    # df = df.drop(columns=set(df.columns).difference(SPEC_COLUMNS))\n",
    "    df = df[[col for col in SPEC_COLUMNS if col in df.columns]]\n",
    "    df.to_csv(output_dir / name, index=False)"
   ]
  },
  {
   "cell_type": "code",
   "execution_count": 24,
   "id": "4c241897-9803-4382-98ba-94bf99fa2a16",
   "metadata": {},
   "outputs": [],
   "source": [
    "export_dataframe(df, \"with_in_ground.csv\")"
   ]
  }
 ],
 "metadata": {
  "kernelspec": {
   "display_name": "Python 3 (ipykernel)",
   "language": "python",
   "name": "python3"
  },
  "language_info": {
   "codemirror_mode": {
    "name": "ipython",
    "version": 3
   },
   "file_extension": ".py",
   "mimetype": "text/x-python",
   "name": "python",
   "nbconvert_exporter": "python",
   "pygments_lexer": "ipython3",
   "version": "3.10.5"
  }
 },
 "nbformat": 4,
 "nbformat_minor": 5
}
