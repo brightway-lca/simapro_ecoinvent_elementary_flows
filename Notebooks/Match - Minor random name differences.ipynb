{
 "cells": [
  {
   "cell_type": "markdown",
   "id": "d671a1da-94b0-4732-83d1-ffdc1801b110",
   "metadata": {},
   "source": [
    "# Match - Minor random name differences"
   ]
  },
  {
   "cell_type": "code",
   "execution_count": 1,
   "id": "97dd6915-0af6-4563-8284-ad7b07d26036",
   "metadata": {},
   "outputs": [],
   "source": [
    "import pandas as pd\n",
    "from pathlib import Path\n",
    "from notebook_utils import *"
   ]
  },
  {
   "cell_type": "markdown",
   "id": "43643949-e038-412f-9b68-246389aa7ee0",
   "metadata": {},
   "source": [
    "Get paths of input and output directories"
   ]
  },
  {
   "cell_type": "code",
   "execution_count": 2,
   "id": "4aff657d-cb27-4dde-aea7-e3d907a6f55f",
   "metadata": {},
   "outputs": [],
   "source": [
    "input_data_dir = (Path.cwd().parent / \"Mapping\" / \"Input\" / \"Flowlists\").resolve()\n",
    "existing_matches_dir = (Path.cwd().parent / \"Mapping\" / \"Output\" / \"Mapped_files\").resolve()"
   ]
  },
  {
   "cell_type": "markdown",
   "id": "99f057e2-4cc1-4ad1-8a97-eb6a523b0d1e",
   "metadata": {},
   "source": [
    "Read input dataframes"
   ]
  },
  {
   "cell_type": "code",
   "execution_count": 3,
   "id": "df061563-9872-4d69-93de-b7aac700c31f",
   "metadata": {},
   "outputs": [],
   "source": [
    "sp = pd.read_csv(input_data_dir / 'SimaProv9.4.csv')"
   ]
  },
  {
   "cell_type": "code",
   "execution_count": 4,
   "id": "f9b61570-d3dc-4549-9814-02002d94171a",
   "metadata": {},
   "outputs": [],
   "source": [
    "ei = pd.read_csv(input_data_dir / 'ecoinventEFv3.7.csv')"
   ]
  },
  {
   "cell_type": "markdown",
   "id": "900baabc-e79e-49d1-8d5e-dbef81b0f6a9",
   "metadata": {},
   "source": [
    "[Stolen from https://github.com/jhuo2021/Importing_Agri-footprint_to_BW](https://github.com/jhuo2021/Importing_Agri-footprint_to_BW/blob/main/Data/migrations/agrifootprint-6-economic.json)"
   ]
  },
  {
   "cell_type": "code",
   "execution_count": 5,
   "id": "07c4ee39-d6e6-4605-8f6e-be176e310330",
   "metadata": {},
   "outputs": [],
   "source": [
    "good_data = [\n",
    "    ('2,4-D, dimethylamine salt', 'Dimethylamine'),\n",
    "    ('Acids, unspecified', 'Acidity, unspecified'),\n",
    "    ('Argon-40/kg', 'Argon-40'),\n",
    "    ('Arsenic', 'Arsenic V'),\n",
    "    ('Benzo(b,j,k)fluoranthene', 'Benzo(b)fluoranthene'),\n",
    "    ('BOD5 (Biological Oxygen Demand)', 'BOD5, Biological Oxygen Demand'),\n",
    "    ('BOD5 (Biological Oxygen Demand), NO', 'BOD5, Biological Oxygen Demand'),\n",
    "    ('Chlorotoluron', 'Chlortoluron'),\n",
    "    ('Chromium III', 'Chromium'),\n",
    "    ('Coal, 26.4 MJ per kg', 'Coal, hard, unspecified, in ground'),\n",
    "    ('Coal, 29.3 MJ per kg', 'Coal, hard, unspecified, in ground'),\n",
    "    ('COD (Chemical Oxygen Demand)', 'COD, Chemical Oxygen Demand'),\n",
    "    ('COD (Chemical Oxygen Demand), NO', 'COD, Chemical Oxygen Demand'),\n",
    "    ('Dioxin, 2,3,7,8 Tetrachlorodibenzo-p-', 'Dioxins, measured as 2,3,7,8-tetrachlorodibenzo-p-dioxin'),\n",
    "    ('Discarded fish, demersal', 'Discarded fish, demersal, to ocean'),\n",
    "    ('Discarded fish, pelagic', 'Discarded fish, pelagic, to ocean'),\n",
    "    ('Flurochloridone', 'Fluorochloridone'),\n",
    "    ('Kaolin ore', 'Kaolinite, 24% in crude ore, in ground'),\n",
    "    ('Lead-210/kg', 'Lead-210'),\n",
    "    ('Metaldehyde (tetramer)', 'Metaldehyde'),\n",
    "    ('Metolachlor, (S)', 'Metolachlor'),\n",
    "    ('Nitrate compounds', 'Nitrate'),\n",
    "    ('p-Xylene', 'Xylene'),\n",
    "    ('Phenols, unspecified', 'Phenol'),\n",
    "    ('Radioactive species, unspecified', 'Radioactive species, other beta emitters'),\n",
    "    ('Radium-226/kg', 'Radium-226'),\n",
    "    ('Radium-228/kg', 'Radium-228'),\n",
    "    ('Sand, gravel and stone, extracted for use', 'Gravel, in ground'),\n",
    "    ('Tri-allate', 'Triallate'),\n",
    "]\n",
    "\n",
    "# I am not sure that these are perfect...\n",
    "unsure_data = [\n",
    "    ('1-Butene', 'Butene'),\n",
    "    ('2-Butene', 'Butene'),\n",
    "    ('BTEX (Benzene, Toluene, Ethylbenzene, and Xylene), unspecified ratio', 'Benzene'),\n",
    "    ('Calcium carbonate', 'Calcium, in ground'),\n",
    "    ('Calcium chloride', 'Calcium, in ground'),\n",
    "    ('Ethane, 1,1,2-trifluoro-, HFC-143', 'Ethane, 1,1,1-trifluoro-, HFC-143a'),\n",
    "    ('Magnesium chloride', 'Magnesium, in ground'),\n",
    "    ('Phosphate, NO', 'Phosphate'),\n",
    "    ('Sulfur monoxide', 'Sulfur oxides'),\n",
    "]\n",
    "\n",
    "data = good_data + unsure_data"
   ]
  },
  {
   "cell_type": "code",
   "execution_count": 6,
   "id": "53198b35-b962-409f-863f-7d9b335e329b",
   "metadata": {},
   "outputs": [],
   "source": [
    "ecoinvent_names = pd.DataFrame(\n",
    "    data,\n",
    "    columns=[\"Flowable\", \"EcoinventFlowable\"]\n",
    ")"
   ]
  },
  {
   "cell_type": "code",
   "execution_count": 7,
   "id": "62ad6ad3-3b57-4eea-9b8b-deadafc127f0",
   "metadata": {},
   "outputs": [],
   "source": [
    "sp = sp.merge(ecoinvent_names, how=\"inner\", on=\"Flowable\")"
   ]
  },
  {
   "cell_type": "code",
   "execution_count": 8,
   "id": "94c38f5e-6ebf-4974-b4e7-3b79eaf18c83",
   "metadata": {},
   "outputs": [],
   "source": [
    "for c in (\"air\", \"water\", \"soil\", \"resources\"):\n",
    "    sp_filtered = expand_simapro_context(sp, c)\n",
    "    sp_filtered = add_ecoinvent_context_column(sp_filtered, label=\"EcoinventContext\", kind=c)\n",
    "    df = sp_filtered.merge(\n",
    "        ei, \n",
    "        how=\"inner\", \n",
    "        left_on=[\"EcoinventFlowable\", \"EcoinventContext\"], \n",
    "        right_on=[\"Flowable\", \"Context\"]\n",
    "    )\n",
    "    finish_notebook(\n",
    "        df=df, \n",
    "        author=\"Chris Mutel\",\n",
    "        notebook_name=\"Match - Minor random name differences\",\n",
    "        filename=f'minor-name-differences-in-{c}'\n",
    "    )"
   ]
  }
 ],
 "metadata": {
  "kernelspec": {
   "display_name": "Python 3 (ipykernel)",
   "language": "python",
   "name": "python3"
  },
  "language_info": {
   "codemirror_mode": {
    "name": "ipython",
    "version": 3
   },
   "file_extension": ".py",
   "mimetype": "text/x-python",
   "name": "python",
   "nbconvert_exporter": "python",
   "pygments_lexer": "ipython3",
   "version": "3.11.0"
  }
 },
 "nbformat": 4,
 "nbformat_minor": 5
}
