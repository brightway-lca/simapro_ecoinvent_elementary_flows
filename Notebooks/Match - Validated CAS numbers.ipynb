{
 "cells": [
  {
   "cell_type": "markdown",
   "id": "d671a1da-94b0-4732-83d1-ffdc1801b110",
   "metadata": {},
   "source": [
    "# Match missing by validated CAS numbers\n",
    "\n",
    "Validate and then use CAS numbers for matching where possible."
   ]
  },
  {
   "cell_type": "code",
   "execution_count": 1,
   "id": "97dd6915-0af6-4563-8284-ad7b07d26036",
   "metadata": {},
   "outputs": [],
   "source": [
    "import pandas as pd\n",
    "from pathlib import Path\n",
    "import numpy as np\n",
    "from numbers import Number\n",
    "from notebook_utils import *"
   ]
  },
  {
   "cell_type": "code",
   "execution_count": 2,
   "id": "4aff657d-cb27-4dde-aea7-e3d907a6f55f",
   "metadata": {},
   "outputs": [],
   "source": [
    "unmatched_data_dir = (Path.cwd().parent / \"Mapping\" / \"Output\" / \"Unmatched\").resolve()\n",
    "output_dir = (Path.cwd().parent / \"Contribute\").resolve()"
   ]
  },
  {
   "cell_type": "markdown",
   "id": "99f057e2-4cc1-4ad1-8a97-eb6a523b0d1e",
   "metadata": {},
   "source": [
    "Read input dataframes"
   ]
  },
  {
   "cell_type": "code",
   "execution_count": 3,
   "id": "df061563-9872-4d69-93de-b7aac700c31f",
   "metadata": {},
   "outputs": [],
   "source": [
    "sp = pd.read_csv(unmatched_data_dir / 'SimaProv9.4.csv')"
   ]
  },
  {
   "cell_type": "code",
   "execution_count": 4,
   "id": "f9b61570-d3dc-4549-9814-02002d94171a",
   "metadata": {},
   "outputs": [],
   "source": [
    "ei = pd.read_csv(unmatched_data_dir / 'ecoinventEFv3.7.csv')"
   ]
  },
  {
   "cell_type": "markdown",
   "id": "b44e92f8-fb38-4e58-a931-7b25ff2c3006",
   "metadata": {},
   "source": [
    "## Validating CAS numbers\n",
    "\n",
    "Just because we have them doesn't make them correct.\n",
    "\n",
    "Based on code from [happy_family](https://github.com/Depart-de-Sentier/happy_family/blob/main/Elementary%20flow%20lists/Generate%20elementary%20flow%20lists.ipynb)."
   ]
  },
  {
   "cell_type": "code",
   "execution_count": 5,
   "id": "0b6e7cea-1fab-4fa9-8374-f5bafc18d416",
   "metadata": {},
   "outputs": [],
   "source": [
    "def validate_cas(s):\n",
    "    ERROR = \"CAS Check Digit error: CAS '{}' has check digit of {}, but it should be {}\"\n",
    "    \n",
    "    if isinstance(s, str):\n",
    "        s = s.strip()\n",
    "    if not s:\n",
    "        return None\n",
    "    elif isinstance(s, Number) and np.isnan(s):\n",
    "        return None\n",
    "    \n",
    "    total = sum((a + 1) * int(b) for a, b in zip(range(9), s.replace(\"-\", \"\")[-2::-1]))\n",
    "    if not total % 10 == int(s[-1]):\n",
    "        print(\"CAS not valid: {} ({})\".format(s, ERROR.format(s, s[-1], total % 10)))\n",
    "        return None\n",
    "    return no_padding_cas(s)\n",
    "                \n",
    "\n",
    "def check_cas(s):\n",
    "    if not s:\n",
    "        return None\n",
    "    assert s.count(\"-\") == 2\n",
    "    check_digit(s)\n",
    "    return True\n",
    "\n",
    "\n",
    "def zero_pad_cas(s):\n",
    "    if not s:\n",
    "        return s\n",
    "    zeros = \"0\" * (12- len(s))\n",
    "    return zeros + s\n",
    "    \n",
    "    \n",
    "def no_padding_cas(s):\n",
    "    if not s:\n",
    "        return s\n",
    "    return s.lstrip(\"0\")"
   ]
  },
  {
   "cell_type": "code",
   "execution_count": 6,
   "id": "040814f3-15a7-4ab7-9afe-004f8c624f7d",
   "metadata": {},
   "outputs": [],
   "source": [
    "ei[\"Valid CAS\"] = ei[\"CASNo\"].apply(validate_cas)\n",
    "ei = ei[ei[\"Valid CAS\"].notnull()]"
   ]
  },
  {
   "cell_type": "code",
   "execution_count": 7,
   "id": "6942b1f7-390a-4139-bc8c-17e65c7352e2",
   "metadata": {},
   "outputs": [],
   "source": [
    "sp[\"Valid CAS\"] = sp[\"CAS No\"].apply(validate_cas)\n",
    "sp = sp[sp[\"Valid CAS\"].notnull()]"
   ]
  },
  {
   "cell_type": "markdown",
   "id": "4f146877-f3c8-4578-9998-384eb3d04e0b",
   "metadata": {},
   "source": [
    "Need to do the three main base contexts separately"
   ]
  },
  {
   "cell_type": "code",
   "execution_count": 8,
   "id": "5e9d4acf-afa5-46f8-a960-43b82c6d5769",
   "metadata": {},
   "outputs": [],
   "source": [
    "for c in (\"air\", \"water\", \"soil\"):\n",
    "    sp_filtered = expand_simapro_context(sp, c)\n",
    "    sp_filtered = add_ecoinvent_context_column(sp_filtered, label=\"EcoinventContext\", kind=c)\n",
    "    df = sp_filtered.merge(ei, how=\"inner\", left_on=[\"Valid CAS\", \"EcoinventContext\"], right_on=[\"Valid CAS\", \"Context\"])\n",
    "    finish_notebook(\n",
    "        df=df, \n",
    "        author=\"Chris Mutel\",\n",
    "        notebook_name=\"Match missing by validated CAS numbers\",\n",
    "        filename=f'validated-cas-in-{c}'\n",
    "    )"
   ]
  }
 ],
 "metadata": {
  "kernelspec": {
   "display_name": "Python 3 (ipykernel)",
   "language": "python",
   "name": "python3"
  },
  "language_info": {
   "codemirror_mode": {
    "name": "ipython",
    "version": 3
   },
   "file_extension": ".py",
   "mimetype": "text/x-python",
   "name": "python",
   "nbconvert_exporter": "python",
   "pygments_lexer": "ipython3",
   "version": "3.11.0"
  }
 },
 "nbformat": 4,
 "nbformat_minor": 5
}
