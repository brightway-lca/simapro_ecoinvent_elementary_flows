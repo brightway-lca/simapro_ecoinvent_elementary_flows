{
 "cells": [
  {
   "cell_type": "markdown",
   "id": "d671a1da-94b0-4732-83d1-ffdc1801b110",
   "metadata": {},
   "source": [
    "# Match - Identical names in air\n",
    "\n",
    "If the name is exactly the same, then we can be pretty confidant there is a 1-1 correspondence. We need to do different base contexts separately, as there can be small implementation differences or other gotchas in each one."
   ]
  },
  {
   "cell_type": "code",
   "execution_count": 1,
   "id": "97dd6915-0af6-4563-8284-ad7b07d26036",
   "metadata": {},
   "outputs": [],
   "source": [
    "import pandas as pd\n",
    "from pathlib import Path\n",
    "from datetime import datetime, timezone"
   ]
  },
  {
   "cell_type": "markdown",
   "id": "43643949-e038-412f-9b68-246389aa7ee0",
   "metadata": {},
   "source": [
    "Get paths of input and output directories"
   ]
  },
  {
   "cell_type": "code",
   "execution_count": 2,
   "id": "4aff657d-cb27-4dde-aea7-e3d907a6f55f",
   "metadata": {},
   "outputs": [],
   "source": [
    "input_data_dir = (Path.cwd().parent / \"Mapping\" / \"Input\" / \"Flowlists\").resolve()\n",
    "existing_matches_dir = (Path.cwd().parent / \"Mapping\" / \"Output\" / \"Mapped_files\").resolve()\n",
    "output_dir = (Path.cwd().parent / \"Contribute\").resolve()"
   ]
  },
  {
   "cell_type": "markdown",
   "id": "99f057e2-4cc1-4ad1-8a97-eb6a523b0d1e",
   "metadata": {},
   "source": [
    "Read input dataframes"
   ]
  },
  {
   "cell_type": "code",
   "execution_count": 3,
   "id": "df061563-9872-4d69-93de-b7aac700c31f",
   "metadata": {},
   "outputs": [],
   "source": [
    "sp = pd.read_csv(input_data_dir / 'SimaProv9.4.csv')"
   ]
  },
  {
   "cell_type": "code",
   "execution_count": 4,
   "id": "f9b61570-d3dc-4549-9814-02002d94171a",
   "metadata": {},
   "outputs": [],
   "source": [
    "ei = pd.read_csv(input_data_dir / 'ecoinventEFv3.7.csv')"
   ]
  },
  {
   "cell_type": "code",
   "execution_count": 5,
   "id": "772eb444-4cc8-4016-95f7-dd27e535e6ad",
   "metadata": {},
   "outputs": [
    {
     "data": {
      "text/plain": [
       "['Airborne emissions',\n",
       " 'Economic issues',\n",
       " 'Emissions to soil',\n",
       " 'Final waste flows',\n",
       " 'Non material emissions',\n",
       " 'Raw materials',\n",
       " 'Social issues',\n",
       " 'Waterborne emissions']"
      ]
     },
     "execution_count": 5,
     "metadata": {},
     "output_type": "execute_result"
    }
   ],
   "source": [
    "sorted(sp.Context.unique())"
   ]
  },
  {
   "cell_type": "code",
   "execution_count": 6,
   "id": "22cd0089-c56f-463d-8a2f-73e77d0d5d21",
   "metadata": {},
   "outputs": [
    {
     "data": {
      "text/plain": [
       "['air/indoor',\n",
       " 'air/low population density, long-term',\n",
       " 'air/lower stratosphere + upper troposphere',\n",
       " 'air/non-urban air or from high stacks',\n",
       " 'air/unspecified',\n",
       " 'air/urban air close to ground',\n",
       " 'natural resource/biotic',\n",
       " 'natural resource/fossil well',\n",
       " 'natural resource/in air',\n",
       " 'natural resource/in ground',\n",
       " 'natural resource/in water',\n",
       " 'natural resource/land',\n",
       " 'soil/agricultural',\n",
       " 'soil/forestry',\n",
       " 'soil/industrial',\n",
       " 'soil/unspecified',\n",
       " 'water/fossil well',\n",
       " 'water/ground-',\n",
       " 'water/ground-, long-term',\n",
       " 'water/ocean',\n",
       " 'water/surface water',\n",
       " 'water/unspecified']"
      ]
     },
     "execution_count": 6,
     "metadata": {},
     "output_type": "execute_result"
    }
   ],
   "source": [
    "sorted(ei.Context.unique())"
   ]
  },
  {
   "cell_type": "markdown",
   "id": "6c6832a4-dbb9-457e-9359-886917cec42a",
   "metadata": {},
   "source": [
    "# Matching the contexts\n",
    "\n",
    "Only look at land use and occupation, and match names which are identical."
   ]
  },
  {
   "cell_type": "code",
   "execution_count": 10,
   "id": "1c2a96ac-9b9c-4a65-ac36-976e8ff81dda",
   "metadata": {},
   "outputs": [],
   "source": [
    "sp = sp[sp.Context == 'Raw materials']\n",
    "ei = ei[ei.Context == 'natural resource/land']"
   ]
  },
  {
   "cell_type": "markdown",
   "id": "22bd0f47-f184-47c8-a76b-85d71927d724",
   "metadata": {},
   "source": [
    "## Fixing the Simapro `Context`\n",
    "\n",
    "The master flow list uses `Raw materials`, but the LCI exports use `Resources/land`. We just fix all of them."
   ]
  },
  {
   "cell_type": "code",
   "execution_count": 13,
   "id": "7345215e-77f4-4249-ad1f-561d1d5c085a",
   "metadata": {},
   "outputs": [],
   "source": [
    "sp.Context = \"Resources/land\""
   ]
  },
  {
   "cell_type": "markdown",
   "id": "d7d2beb6-ae0f-4f05-bae5-539c2740a619",
   "metadata": {},
   "source": [
    "# Merging based on identical names\n",
    "\n",
    "Once we have the `Context` systems aligned, it is quite simple to merge the two dataframes and take results when the `Flowable` matches exactly."
   ]
  },
  {
   "cell_type": "code",
   "execution_count": 16,
   "id": "ec71731c-b94b-412f-a6c6-8a6eab5a41fa",
   "metadata": {},
   "outputs": [],
   "source": [
    "df = sp.merge(ei, how=\"inner\", left_on=[\"Flowable\"], right_on=[\"Flowable\"])"
   ]
  },
  {
   "cell_type": "code",
   "execution_count": 17,
   "id": "f3dcac21-00d5-411d-ad93-2f189c52dbc1",
   "metadata": {},
   "outputs": [
    {
     "data": {
      "text/html": [
       "<div>\n",
       "<style scoped>\n",
       "    .dataframe tbody tr th:only-of-type {\n",
       "        vertical-align: middle;\n",
       "    }\n",
       "\n",
       "    .dataframe tbody tr th {\n",
       "        vertical-align: top;\n",
       "    }\n",
       "\n",
       "    .dataframe thead th {\n",
       "        text-align: right;\n",
       "    }\n",
       "</style>\n",
       "<table border=\"1\" class=\"dataframe\">\n",
       "  <thead>\n",
       "    <tr style=\"text-align: right;\">\n",
       "      <th></th>\n",
       "      <th>Flowable</th>\n",
       "      <th>CAS No</th>\n",
       "      <th>Formula_x</th>\n",
       "      <th>Synonyms_x</th>\n",
       "      <th>Unit_x</th>\n",
       "      <th>Class_x</th>\n",
       "      <th>Context_x</th>\n",
       "      <th>Flow UUID</th>\n",
       "      <th>Description</th>\n",
       "      <th>CASNo</th>\n",
       "      <th>...</th>\n",
       "      <th>Synonyms_y</th>\n",
       "      <th>Unit_y</th>\n",
       "      <th>Class_y</th>\n",
       "      <th>ExternalReference</th>\n",
       "      <th>Preferred</th>\n",
       "      <th>Context_y</th>\n",
       "      <th>FlowUUID</th>\n",
       "      <th>AltUnit</th>\n",
       "      <th>Unnamed: 11</th>\n",
       "      <th>Second CAS</th>\n",
       "    </tr>\n",
       "  </thead>\n",
       "  <tbody>\n",
       "    <tr>\n",
       "      <th>0</th>\n",
       "      <td>Occupation, annual crop</td>\n",
       "      <td>NaN</td>\n",
       "      <td>NaN</td>\n",
       "      <td>Occupation, annual crop</td>\n",
       "      <td>m2a</td>\n",
       "      <td>Raw materials</td>\n",
       "      <td>Resources/land</td>\n",
       "      <td>322AC138-364B-4E92-8BDB-0A86A4BD95C6</td>\n",
       "      <td></td>\n",
       "      <td>NaN</td>\n",
       "      <td>...</td>\n",
       "      <td>NaN</td>\n",
       "      <td>m2*a</td>\n",
       "      <td>land</td>\n",
       "      <td>NaN</td>\n",
       "      <td>NaN</td>\n",
       "      <td>natural resource/land</td>\n",
       "      <td>c5aafa60-495c-461c-a1d4-b262a34c45b9</td>\n",
       "      <td>NaN</td>\n",
       "      <td>NaN</td>\n",
       "      <td>NaN</td>\n",
       "    </tr>\n",
       "    <tr>\n",
       "      <th>1</th>\n",
       "      <td>Occupation, annual crop, flooded crop</td>\n",
       "      <td>NaN</td>\n",
       "      <td>NaN</td>\n",
       "      <td>Occupation, annual crop, flooded crop</td>\n",
       "      <td>m2a</td>\n",
       "      <td>Raw materials</td>\n",
       "      <td>Resources/land</td>\n",
       "      <td>3AB83A38-BB37-478D-8E23-71ED99C52254</td>\n",
       "      <td>NaN</td>\n",
       "      <td>NaN</td>\n",
       "      <td>...</td>\n",
       "      <td>NaN</td>\n",
       "      <td>m2*a</td>\n",
       "      <td>land</td>\n",
       "      <td>NaN</td>\n",
       "      <td>NaN</td>\n",
       "      <td>natural resource/land</td>\n",
       "      <td>7956039f-1181-42ab-b03b-ba9992733394</td>\n",
       "      <td>NaN</td>\n",
       "      <td>NaN</td>\n",
       "      <td>NaN</td>\n",
       "    </tr>\n",
       "    <tr>\n",
       "      <th>2</th>\n",
       "      <td>Occupation, annual crop, greenhouse</td>\n",
       "      <td>NaN</td>\n",
       "      <td>NaN</td>\n",
       "      <td>Occupation, annual crop, greenhouse</td>\n",
       "      <td>m2a</td>\n",
       "      <td>Raw materials</td>\n",
       "      <td>Resources/land</td>\n",
       "      <td>E51A65A6-0FE4-4D81-9011-E08CB30AC361</td>\n",
       "      <td>NaN</td>\n",
       "      <td>NaN</td>\n",
       "      <td>...</td>\n",
       "      <td>NaN</td>\n",
       "      <td>m2*a</td>\n",
       "      <td>land</td>\n",
       "      <td>NaN</td>\n",
       "      <td>NaN</td>\n",
       "      <td>natural resource/land</td>\n",
       "      <td>9e80f7cd-47fa-4c7f-8f2c-bdb9731b3196</td>\n",
       "      <td>NaN</td>\n",
       "      <td>NaN</td>\n",
       "      <td>NaN</td>\n",
       "    </tr>\n",
       "    <tr>\n",
       "      <th>3</th>\n",
       "      <td>Occupation, annual crop, irrigated</td>\n",
       "      <td>NaN</td>\n",
       "      <td>NaN</td>\n",
       "      <td>Occupation, annual crop, irrigated</td>\n",
       "      <td>m2a</td>\n",
       "      <td>Raw materials</td>\n",
       "      <td>Resources/land</td>\n",
       "      <td>FB4F29FA-EFF3-4D25-91E2-FE5F1740DC21</td>\n",
       "      <td>NaN</td>\n",
       "      <td>NaN</td>\n",
       "      <td>...</td>\n",
       "      <td>NaN</td>\n",
       "      <td>m2*a</td>\n",
       "      <td>land</td>\n",
       "      <td>NaN</td>\n",
       "      <td>NaN</td>\n",
       "      <td>natural resource/land</td>\n",
       "      <td>c4a82f46-381f-474c-a362-3363064b9c33</td>\n",
       "      <td>NaN</td>\n",
       "      <td>NaN</td>\n",
       "      <td>NaN</td>\n",
       "    </tr>\n",
       "    <tr>\n",
       "      <th>4</th>\n",
       "      <td>Occupation, annual crop, irrigated, extensive</td>\n",
       "      <td>NaN</td>\n",
       "      <td>Pd</td>\n",
       "      <td>Occupation, annual crop, irrigated, extensive</td>\n",
       "      <td>m2a</td>\n",
       "      <td>Raw materials</td>\n",
       "      <td>Resources/land</td>\n",
       "      <td>D2E60B56-EE72-43F7-80F0-22991F396C17</td>\n",
       "      <td>NaN</td>\n",
       "      <td>NaN</td>\n",
       "      <td>...</td>\n",
       "      <td>NaN</td>\n",
       "      <td>m2*a</td>\n",
       "      <td>land</td>\n",
       "      <td>NaN</td>\n",
       "      <td>NaN</td>\n",
       "      <td>natural resource/land</td>\n",
       "      <td>12c7671c-e4aa-46c6-93c5-b6f9ac1c453b</td>\n",
       "      <td>NaN</td>\n",
       "      <td>NaN</td>\n",
       "      <td>NaN</td>\n",
       "    </tr>\n",
       "    <tr>\n",
       "      <th>...</th>\n",
       "      <td>...</td>\n",
       "      <td>...</td>\n",
       "      <td>...</td>\n",
       "      <td>...</td>\n",
       "      <td>...</td>\n",
       "      <td>...</td>\n",
       "      <td>...</td>\n",
       "      <td>...</td>\n",
       "      <td>...</td>\n",
       "      <td>...</td>\n",
       "      <td>...</td>\n",
       "      <td>...</td>\n",
       "      <td>...</td>\n",
       "      <td>...</td>\n",
       "      <td>...</td>\n",
       "      <td>...</td>\n",
       "      <td>...</td>\n",
       "      <td>...</td>\n",
       "      <td>...</td>\n",
       "      <td>...</td>\n",
       "      <td>...</td>\n",
       "    </tr>\n",
       "    <tr>\n",
       "      <th>137</th>\n",
       "      <td>Transformation, to unspecified</td>\n",
       "      <td>NaN</td>\n",
       "      <td>C5H8O2 </td>\n",
       "      <td>Transformation, to unspecified</td>\n",
       "      <td>m2</td>\n",
       "      <td>Raw materials</td>\n",
       "      <td>Resources/land</td>\n",
       "      <td>D05B135A-A729-493D-A35E-8C5AAFB84645</td>\n",
       "      <td>NaN</td>\n",
       "      <td>NaN</td>\n",
       "      <td>...</td>\n",
       "      <td>NaN</td>\n",
       "      <td>m2</td>\n",
       "      <td>land</td>\n",
       "      <td>NaN</td>\n",
       "      <td>NaN</td>\n",
       "      <td>natural resource/land</td>\n",
       "      <td>512a5356-8059-4772-a43f-42e3c4f3d299</td>\n",
       "      <td>NaN</td>\n",
       "      <td>NaN</td>\n",
       "      <td>NaN</td>\n",
       "    </tr>\n",
       "    <tr>\n",
       "      <th>138</th>\n",
       "      <td>Transformation, to unspecified, natural (non-use)</td>\n",
       "      <td>NaN</td>\n",
       "      <td>NaN</td>\n",
       "      <td>Transformation, to unspecified, natural (non-use)</td>\n",
       "      <td>m2</td>\n",
       "      <td>Raw materials</td>\n",
       "      <td>Resources/land</td>\n",
       "      <td>64B35EA9-14CF-40FE-B86B-13EA5988E6E4</td>\n",
       "      <td>NaN</td>\n",
       "      <td>NaN</td>\n",
       "      <td>...</td>\n",
       "      <td>NaN</td>\n",
       "      <td>m2</td>\n",
       "      <td>land</td>\n",
       "      <td>NaN</td>\n",
       "      <td>NaN</td>\n",
       "      <td>natural resource/land</td>\n",
       "      <td>46cfaeaf-f124-409f-998d-47b159051cec</td>\n",
       "      <td>NaN</td>\n",
       "      <td>NaN</td>\n",
       "      <td>NaN</td>\n",
       "    </tr>\n",
       "    <tr>\n",
       "      <th>139</th>\n",
       "      <td>Transformation, to urban, continuously built</td>\n",
       "      <td>NaN</td>\n",
       "      <td>NaN</td>\n",
       "      <td>Transformation, to urban, continuously built</td>\n",
       "      <td>m2</td>\n",
       "      <td>Raw materials</td>\n",
       "      <td>Resources/land</td>\n",
       "      <td>952D05EA-6D59-44AC-A6DC-A29550056CDB</td>\n",
       "      <td></td>\n",
       "      <td>NaN</td>\n",
       "      <td>...</td>\n",
       "      <td>NaN</td>\n",
       "      <td>m2</td>\n",
       "      <td>land</td>\n",
       "      <td>NaN</td>\n",
       "      <td>NaN</td>\n",
       "      <td>natural resource/land</td>\n",
       "      <td>66f25f1d-1898-4827-bcbb-ca82f15c4d02</td>\n",
       "      <td>NaN</td>\n",
       "      <td>NaN</td>\n",
       "      <td>NaN</td>\n",
       "    </tr>\n",
       "    <tr>\n",
       "      <th>140</th>\n",
       "      <td>Transformation, to urban, discontinuously built</td>\n",
       "      <td>NaN</td>\n",
       "      <td>C5H10O </td>\n",
       "      <td>Transformation, to urban, discontinuously built</td>\n",
       "      <td>m2</td>\n",
       "      <td>Raw materials</td>\n",
       "      <td>Resources/land</td>\n",
       "      <td>A3DEA065-9BDB-4564-A1B0-334C3A7A2079</td>\n",
       "      <td>NaN</td>\n",
       "      <td>NaN</td>\n",
       "      <td>...</td>\n",
       "      <td>NaN</td>\n",
       "      <td>m2</td>\n",
       "      <td>land</td>\n",
       "      <td>NaN</td>\n",
       "      <td>NaN</td>\n",
       "      <td>natural resource/land</td>\n",
       "      <td>55beee8d-d04e-4307-bb0e-4e113dc07ee7</td>\n",
       "      <td>NaN</td>\n",
       "      <td>NaN</td>\n",
       "      <td>NaN</td>\n",
       "    </tr>\n",
       "    <tr>\n",
       "      <th>141</th>\n",
       "      <td>Transformation, to wetland, inland (non-use)</td>\n",
       "      <td>NaN</td>\n",
       "      <td>NaN</td>\n",
       "      <td>Transformation, to wetland, inland (non-use)</td>\n",
       "      <td>m2</td>\n",
       "      <td>Raw materials</td>\n",
       "      <td>Resources/land</td>\n",
       "      <td>8F9DDAFE-2F93-46AA-B5F3-5E1BC8FF4BF2</td>\n",
       "      <td>NaN</td>\n",
       "      <td>NaN</td>\n",
       "      <td>...</td>\n",
       "      <td>NaN</td>\n",
       "      <td>m2</td>\n",
       "      <td>land</td>\n",
       "      <td>NaN</td>\n",
       "      <td>NaN</td>\n",
       "      <td>natural resource/land</td>\n",
       "      <td>d36dd104-5214-4ca2-b1ab-c878987a42fe</td>\n",
       "      <td>NaN</td>\n",
       "      <td>NaN</td>\n",
       "      <td>NaN</td>\n",
       "    </tr>\n",
       "  </tbody>\n",
       "</table>\n",
       "<p>142 rows × 21 columns</p>\n",
       "</div>"
      ],
      "text/plain": [
       "                                              Flowable CAS No Formula_x  \\\n",
       "0                              Occupation, annual crop    NaN       NaN   \n",
       "1                Occupation, annual crop, flooded crop    NaN       NaN   \n",
       "2                  Occupation, annual crop, greenhouse    NaN       NaN   \n",
       "3                   Occupation, annual crop, irrigated    NaN       NaN   \n",
       "4        Occupation, annual crop, irrigated, extensive    NaN       Pd   \n",
       "..                                                 ...    ...       ...   \n",
       "137                     Transformation, to unspecified    NaN  C5H8O2    \n",
       "138  Transformation, to unspecified, natural (non-use)    NaN       NaN   \n",
       "139       Transformation, to urban, continuously built    NaN       NaN   \n",
       "140    Transformation, to urban, discontinuously built    NaN  C5H10O    \n",
       "141       Transformation, to wetland, inland (non-use)    NaN       NaN   \n",
       "\n",
       "                                            Synonyms_x Unit_x        Class_x  \\\n",
       "0                              Occupation, annual crop    m2a  Raw materials   \n",
       "1                Occupation, annual crop, flooded crop    m2a  Raw materials   \n",
       "2                  Occupation, annual crop, greenhouse    m2a  Raw materials   \n",
       "3                   Occupation, annual crop, irrigated    m2a  Raw materials   \n",
       "4        Occupation, annual crop, irrigated, extensive    m2a  Raw materials   \n",
       "..                                                 ...    ...            ...   \n",
       "137                     Transformation, to unspecified     m2  Raw materials   \n",
       "138  Transformation, to unspecified, natural (non-use)     m2  Raw materials   \n",
       "139       Transformation, to urban, continuously built     m2  Raw materials   \n",
       "140    Transformation, to urban, discontinuously built     m2  Raw materials   \n",
       "141       Transformation, to wetland, inland (non-use)     m2  Raw materials   \n",
       "\n",
       "          Context_x                             Flow UUID Description CASNo  \\\n",
       "0    Resources/land  322AC138-364B-4E92-8BDB-0A86A4BD95C6              NaN   \n",
       "1    Resources/land  3AB83A38-BB37-478D-8E23-71ED99C52254         NaN   NaN   \n",
       "2    Resources/land  E51A65A6-0FE4-4D81-9011-E08CB30AC361         NaN   NaN   \n",
       "3    Resources/land  FB4F29FA-EFF3-4D25-91E2-FE5F1740DC21         NaN   NaN   \n",
       "4    Resources/land  D2E60B56-EE72-43F7-80F0-22991F396C17         NaN   NaN   \n",
       "..              ...                                   ...         ...   ...   \n",
       "137  Resources/land  D05B135A-A729-493D-A35E-8C5AAFB84645         NaN   NaN   \n",
       "138  Resources/land  64B35EA9-14CF-40FE-B86B-13EA5988E6E4         NaN   NaN   \n",
       "139  Resources/land  952D05EA-6D59-44AC-A6DC-A29550056CDB              NaN   \n",
       "140  Resources/land  A3DEA065-9BDB-4564-A1B0-334C3A7A2079         NaN   NaN   \n",
       "141  Resources/land  8F9DDAFE-2F93-46AA-B5F3-5E1BC8FF4BF2         NaN   NaN   \n",
       "\n",
       "     ... Synonyms_y Unit_y Class_y ExternalReference  Preferred  \\\n",
       "0    ...        NaN   m2*a    land               NaN        NaN   \n",
       "1    ...        NaN   m2*a    land               NaN        NaN   \n",
       "2    ...        NaN   m2*a    land               NaN        NaN   \n",
       "3    ...        NaN   m2*a    land               NaN        NaN   \n",
       "4    ...        NaN   m2*a    land               NaN        NaN   \n",
       "..   ...        ...    ...     ...               ...        ...   \n",
       "137  ...        NaN     m2    land               NaN        NaN   \n",
       "138  ...        NaN     m2    land               NaN        NaN   \n",
       "139  ...        NaN     m2    land               NaN        NaN   \n",
       "140  ...        NaN     m2    land               NaN        NaN   \n",
       "141  ...        NaN     m2    land               NaN        NaN   \n",
       "\n",
       "                 Context_y                              FlowUUID AltUnit  \\\n",
       "0    natural resource/land  c5aafa60-495c-461c-a1d4-b262a34c45b9     NaN   \n",
       "1    natural resource/land  7956039f-1181-42ab-b03b-ba9992733394     NaN   \n",
       "2    natural resource/land  9e80f7cd-47fa-4c7f-8f2c-bdb9731b3196     NaN   \n",
       "3    natural resource/land  c4a82f46-381f-474c-a362-3363064b9c33     NaN   \n",
       "4    natural resource/land  12c7671c-e4aa-46c6-93c5-b6f9ac1c453b     NaN   \n",
       "..                     ...                                   ...     ...   \n",
       "137  natural resource/land  512a5356-8059-4772-a43f-42e3c4f3d299     NaN   \n",
       "138  natural resource/land  46cfaeaf-f124-409f-998d-47b159051cec     NaN   \n",
       "139  natural resource/land  66f25f1d-1898-4827-bcbb-ca82f15c4d02     NaN   \n",
       "140  natural resource/land  55beee8d-d04e-4307-bb0e-4e113dc07ee7     NaN   \n",
       "141  natural resource/land  d36dd104-5214-4ca2-b1ab-c878987a42fe     NaN   \n",
       "\n",
       "     Unnamed: 11  Second CAS  \n",
       "0            NaN         NaN  \n",
       "1            NaN         NaN  \n",
       "2            NaN         NaN  \n",
       "3            NaN         NaN  \n",
       "4            NaN         NaN  \n",
       "..           ...         ...  \n",
       "137          NaN         NaN  \n",
       "138          NaN         NaN  \n",
       "139          NaN         NaN  \n",
       "140          NaN         NaN  \n",
       "141          NaN         NaN  \n",
       "\n",
       "[142 rows x 21 columns]"
      ]
     },
     "execution_count": 17,
     "metadata": {},
     "output_type": "execute_result"
    }
   ],
   "source": [
    "df"
   ]
  },
  {
   "cell_type": "markdown",
   "id": "b37c3067-1aa8-4a77-9f03-8ed5c5c2cb60",
   "metadata": {},
   "source": [
    "# Check different units\n",
    "\n",
    "They don't use the same labels, but it's OK."
   ]
  },
  {
   "cell_type": "code",
   "execution_count": 22,
   "id": "8d209f7d-10bc-4337-afc2-34fb644f8570",
   "metadata": {},
   "outputs": [
    {
     "data": {
      "text/html": [
       "<div>\n",
       "<style scoped>\n",
       "    .dataframe tbody tr th:only-of-type {\n",
       "        vertical-align: middle;\n",
       "    }\n",
       "\n",
       "    .dataframe tbody tr th {\n",
       "        vertical-align: top;\n",
       "    }\n",
       "\n",
       "    .dataframe thead th {\n",
       "        text-align: right;\n",
       "    }\n",
       "</style>\n",
       "<table border=\"1\" class=\"dataframe\">\n",
       "  <thead>\n",
       "    <tr style=\"text-align: right;\">\n",
       "      <th></th>\n",
       "      <th>Unit_x</th>\n",
       "      <th>Unit_y</th>\n",
       "      <th>0</th>\n",
       "    </tr>\n",
       "  </thead>\n",
       "  <tbody>\n",
       "    <tr>\n",
       "      <th>0</th>\n",
       "      <td>m2</td>\n",
       "      <td>m2</td>\n",
       "      <td>98</td>\n",
       "    </tr>\n",
       "    <tr>\n",
       "      <th>1</th>\n",
       "      <td>m2a</td>\n",
       "      <td>m2*a</td>\n",
       "      <td>44</td>\n",
       "    </tr>\n",
       "  </tbody>\n",
       "</table>\n",
       "</div>"
      ],
      "text/plain": [
       "  Unit_x Unit_y   0\n",
       "0     m2     m2  98\n",
       "1    m2a   m2*a  44"
      ]
     },
     "execution_count": 22,
     "metadata": {},
     "output_type": "execute_result"
    }
   ],
   "source": [
    "df.groupby([\"Unit_x\", \"Unit_y\"]).size().reset_index()"
   ]
  },
  {
   "cell_type": "markdown",
   "id": "04aa9592-3e0e-4a84-b0ba-9c2baa8f4987",
   "metadata": {},
   "source": [
    "# Finalize export"
   ]
  },
  {
   "cell_type": "markdown",
   "id": "9b0d3273-0ba6-4e44-bdd7-3cc52b1377ac",
   "metadata": {},
   "source": [
    "Adjust columns to match expected format:"
   ]
  },
  {
   "cell_type": "code",
   "execution_count": 23,
   "id": "031ccb41-da4e-4e5d-a678-7cca5faa8c43",
   "metadata": {},
   "outputs": [],
   "source": [
    "def fix_names_after_merge(df):\n",
    "    mapping = {\n",
    "        'Flow UUID': 'SourceFlowUUID', \n",
    "        'FlowUUID': 'TargetFlowUUID',  # Incorrect column header in provided ecoinvent data\n",
    "        'Flowable_x': 'SourceFlowName', \n",
    "        'Flowable_y': 'TargetFlowName',\n",
    "        'Unit_x': 'SourceUnit',\n",
    "        'Unit_y': 'TargetUnit',\n",
    "        'Context_x': 'SourceFlowContext',\n",
    "        'Context_y': 'TargetFlowContext',\n",
    "    }\n",
    "    return df.rename(columns={k: v for k, v in mapping.items() if k in df.columns})"
   ]
  },
  {
   "cell_type": "code",
   "execution_count": 24,
   "id": "8cafbe69-c260-4040-aeef-c4599e7eff11",
   "metadata": {},
   "outputs": [],
   "source": [
    "df = fix_names_after_merge(df)"
   ]
  },
  {
   "cell_type": "markdown",
   "id": "1f417efd-2258-4608-9ccc-ad9d6cba69e4",
   "metadata": {},
   "source": [
    "Add some useful columns.\n",
    "\n",
    "* `author` is your name\n",
    "* `notebook_name` is the name of this notebook; we can't figure this out automatically. It should normally start with `Match -`.\n",
    "* `default_match_condition` is one of `=`, `~`, `<`, or `>`."
   ]
  },
  {
   "cell_type": "code",
   "execution_count": 25,
   "id": "53603a21-53d7-4c6c-94bd-73bd52cb96d6",
   "metadata": {},
   "outputs": [],
   "source": [
    "def add_common_columns(df, author, notebook_name, default_match_condition=\"=\"):\n",
    "    df['SourceListName'] = 'SimaPro9.4'\n",
    "    df['TargetListName'] = 'ecoinventEFv3.7'\n",
    "    df['MatchCondition'] = default_match_condition\n",
    "    df['Mapper'] = author\n",
    "    df['MemoMapper'] = f'Automated match. Notebook: {notebook_name}'\n",
    "    df['MemoSource'] = ''\n",
    "    df['MemoTarget'] = ''\n",
    "    df['MemoVerifier'] = ''\n",
    "    df['LastUpdated'] = datetime.now(timezone.utc).astimezone().isoformat()\n",
    "    df['Verifier'] = ''\n",
    "    return df"
   ]
  },
  {
   "cell_type": "code",
   "execution_count": 26,
   "id": "5ad1eaf0-e7c3-49e0-b0c2-b82752a2f362",
   "metadata": {},
   "outputs": [],
   "source": [
    "df = add_common_columns(df, \"Chris Mutel\", \"Match - Identical names in air\")"
   ]
  },
  {
   "cell_type": "markdown",
   "id": "3bdaa414-7582-4be3-966d-cb4cc5692107",
   "metadata": {},
   "source": [
    "Make sure the required columns are present"
   ]
  },
  {
   "cell_type": "code",
   "execution_count": 27,
   "id": "7d7a8f45-666a-4c86-82c2-e5e9a9c00d1f",
   "metadata": {},
   "outputs": [],
   "source": [
    "def check_required_columns(df):\n",
    "    expected = set([     \n",
    "        \"SourceListName\", \"SourceFlowName\", \"SourceFlowUUID\", \"SourceFlowContext\", \"SourceUnit\", \n",
    "        \"MatchCondition\", \"TargetListName\", \"TargetFlowName\", \"TargetFlowUUID\", \n",
    "        \"TargetFlowContext\", \"TargetUnit\", \"Mapper\", \"Verifier\", \"LastUpdated\", \"MemoMapper\", \n",
    "        \"MemoVerifier\", \"MemoSource\", \"MemoTarget\"\n",
    "    ])\n",
    "    given = set(df.columns)\n",
    "    difference = expected.difference(given)\n",
    "    if difference:\n",
    "        print(\"Missing the following required columns:\", difference)"
   ]
  },
  {
   "cell_type": "code",
   "execution_count": 28,
   "id": "c4fbee26-7dd9-4fc9-bcfc-9fc4917d921a",
   "metadata": {},
   "outputs": [
    {
     "name": "stdout",
     "output_type": "stream",
     "text": [
      "Missing the following required columns: {'SourceFlowName', 'TargetFlowName'}\n"
     ]
    }
   ],
   "source": [
    "check_required_columns(df)"
   ]
  },
  {
   "cell_type": "markdown",
   "id": "7ba0f65a-9757-4b51-9407-fe777c5bbe2c",
   "metadata": {},
   "source": [
    "The names are exactly the same, so we can just duplicate them:"
   ]
  },
  {
   "cell_type": "code",
   "execution_count": 29,
   "id": "0d359112-f134-467b-91d5-75d7ad931c41",
   "metadata": {},
   "outputs": [],
   "source": [
    "df['SourceFlowName'] = df['TargetFlowName'] = df['Flowable']"
   ]
  },
  {
   "cell_type": "markdown",
   "id": "38805d39-e02e-4738-83ac-ea319a7914a3",
   "metadata": {},
   "source": [
    "Export the dataframe to the `contribute` directory. Please make your filename meaningful."
   ]
  },
  {
   "cell_type": "code",
   "execution_count": 30,
   "id": "0bf16e12-6c54-4013-826e-cba7d7c1dc58",
   "metadata": {},
   "outputs": [],
   "source": [
    "def export_dataframe(df, name):\n",
    "    SPEC_COLUMNS = [\n",
    "        \"SourceListName\", \"SourceFlowName\", \"SourceFlowUUID\", \"SourceFlowContext\", \"SourceUnit\", \n",
    "        \"MatchCondition\", \"ConversionFactor\", \"TargetListName\", \"TargetFlowName\", \"TargetFlowUUID\", \n",
    "        \"TargetFlowContext\", \"TargetUnit\", \"Mapper\", \"Verifier\", \"LastUpdated\", \"MemoMapper\", \n",
    "        \"MemoVerifier\", \"MemoSource\", \"MemoTarget\"\n",
    "    ]\n",
    "    \n",
    "    df = df[[col for col in SPEC_COLUMNS if col in df.columns]]\n",
    "    \n",
    "    if not name.lower().endswith(\".csv\"):\n",
    "        name += \".csv\"\n",
    "    \n",
    "    df.to_csv(output_dir / name, index=False)"
   ]
  },
  {
   "cell_type": "code",
   "execution_count": 31,
   "id": "b84a9d09-b7bf-48d2-bef2-d8f965a77d8e",
   "metadata": {},
   "outputs": [],
   "source": [
    "export_dataframe(df, 'resources-land')"
   ]
  }
 ],
 "metadata": {
  "kernelspec": {
   "display_name": "Python 3 (ipykernel)",
   "language": "python",
   "name": "python3"
  },
  "language_info": {
   "codemirror_mode": {
    "name": "ipython",
    "version": 3
   },
   "file_extension": ".py",
   "mimetype": "text/x-python",
   "name": "python",
   "nbconvert_exporter": "python",
   "pygments_lexer": "ipython3",
   "version": "3.10.6"
  }
 },
 "nbformat": 4,
 "nbformat_minor": 5
}
