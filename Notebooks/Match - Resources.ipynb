{
 "cells": [
  {
   "cell_type": "markdown",
   "id": "d671a1da-94b0-4732-83d1-ffdc1801b110",
   "metadata": {},
   "source": [
    "# Match - Natural resources\n",
    "\n",
    "If the name is exactly the same, then we can be pretty confidant there is a 1-1 correspondence."
   ]
  },
  {
   "cell_type": "code",
   "execution_count": 1,
   "id": "97dd6915-0af6-4563-8284-ad7b07d26036",
   "metadata": {},
   "outputs": [],
   "source": [
    "import pandas as pd\n",
    "from pathlib import Path\n",
    "from datetime import datetime, timezone\n",
    "from notebook_utils import finish_notebook"
   ]
  },
  {
   "cell_type": "markdown",
   "id": "43643949-e038-412f-9b68-246389aa7ee0",
   "metadata": {},
   "source": [
    "Get paths of input and output directories"
   ]
  },
  {
   "cell_type": "code",
   "execution_count": 2,
   "id": "4aff657d-cb27-4dde-aea7-e3d907a6f55f",
   "metadata": {},
   "outputs": [],
   "source": [
    "input_data_dir = (Path.cwd().parent / \"Mapping\" / \"Input\" / \"Flowlists\").resolve()\n",
    "existing_matches_dir = (Path.cwd().parent / \"Mapping\" / \"Output\" / \"Mapped_files\").resolve()"
   ]
  },
  {
   "cell_type": "markdown",
   "id": "99f057e2-4cc1-4ad1-8a97-eb6a523b0d1e",
   "metadata": {},
   "source": [
    "Read input dataframes"
   ]
  },
  {
   "cell_type": "code",
   "execution_count": 3,
   "id": "df061563-9872-4d69-93de-b7aac700c31f",
   "metadata": {},
   "outputs": [],
   "source": [
    "sp = pd.read_csv(input_data_dir / 'SimaProv9.4.csv')"
   ]
  },
  {
   "cell_type": "code",
   "execution_count": 4,
   "id": "f9b61570-d3dc-4549-9814-02002d94171a",
   "metadata": {},
   "outputs": [],
   "source": [
    "ei = pd.read_csv(input_data_dir / 'ecoinventEFv3.7.csv')"
   ]
  },
  {
   "cell_type": "markdown",
   "id": "e1fcd18d-5f0a-4422-8012-1a2d0d0b9863",
   "metadata": {},
   "source": [
    "## Merge based on ecoinvent `Context`\n",
    "\n",
    "The SimaPro input file has the context `Resources` - we need to use the ecoinvent conext to match to subcontexts. \n",
    "\n",
    "We will use this mapping, and iterate one by one over the subcontexts:\n",
    "\n",
    "| ecoinvent context | Simapro context | Match condition (Simapro to ecoinvent) |\n",
    "| ----------------- | --------------- | -------------------------------------- |\n",
    "| natural resource/land | Resources/land | = |\n",
    "| natural resource/unspecified | Resources/(unspecified) | = |\n",
    "| natural resource/biotic | Resources/biotic | = |\n",
    "| natural resource/in ground | Resources/in ground | = |\n",
    "| natural resource/in air | Resources/in air | = |\n",
    "| natural resource/in water | Resources/in water | = |\n",
    "| natural resource/in water | Resources/fossil well | ~ |"
   ]
  },
  {
   "cell_type": "code",
   "execution_count": 5,
   "id": "8a1db92e-0dff-4625-ad13-eb7e274fc13f",
   "metadata": {},
   "outputs": [],
   "source": [
    "contexts = [\n",
    "    (\"natural resource/land\", \"Resources/land\"),\n",
    "    (\"natural resource/unspecified\", \"Resources/(unspecified)\"),\n",
    "    (\"natural resource/biotic\", \"Resources/biotic\"),\n",
    "    (\"natural resource/in ground\", \"Resources/in ground\"),\n",
    "    (\"natural resource/in air\", \"Resources/in air\"),\n",
    "    (\"natural resource/in water\", \"Resources/in water\"),\n",
    "    (\"natural resource/in water\", \"Resources/fossil well\"),\n",
    "]"
   ]
  },
  {
   "cell_type": "code",
   "execution_count": 6,
   "id": "33de1625-f9dc-477b-a2ec-47f74d57f516",
   "metadata": {},
   "outputs": [],
   "source": [
    "result = []\n",
    "\n",
    "for ei_context, sp_context in contexts:\n",
    "    sp_filtered = sp[sp.Context == 'Raw materials']\n",
    "    ei_filtered = ei[ei.Context == ei_context]  \n",
    "    df_subcontext = sp_filtered.merge(ei_filtered, how=\"inner\", left_on=[\"Flowable\"], right_on=[\"Flowable\"])\n",
    "    df_subcontext.Context_x = sp_context\n",
    "    result.append(df_subcontext)"
   ]
  },
  {
   "cell_type": "code",
   "execution_count": 7,
   "id": "f72e4c9d-2b27-4050-8efe-82e329089aee",
   "metadata": {},
   "outputs": [],
   "source": [
    "df = pd.concat(result)\n",
    "df['SourceFlowName'] = df['TargetFlowName'] = df['Flowable']"
   ]
  },
  {
   "cell_type": "code",
   "execution_count": 8,
   "id": "12e658d1-af2e-4b51-9ab5-a12fab6a5748",
   "metadata": {},
   "outputs": [],
   "source": [
    "finish_notebook(\n",
    "    df=df,\n",
    "    author=\"Chris Mutel\",\n",
    "    notebook_name=\"Match - Resources\",\n",
    "    filename=\"identical-names-in-resources\",\n",
    ")"
   ]
  }
 ],
 "metadata": {
  "kernelspec": {
   "display_name": "Python 3 (ipykernel)",
   "language": "python",
   "name": "python3"
  },
  "language_info": {
   "codemirror_mode": {
    "name": "ipython",
    "version": 3
   },
   "file_extension": ".py",
   "mimetype": "text/x-python",
   "name": "python",
   "nbconvert_exporter": "python",
   "pygments_lexer": "ipython3",
   "version": "3.11.0"
  }
 },
 "nbformat": 4,
 "nbformat_minor": 5
}
