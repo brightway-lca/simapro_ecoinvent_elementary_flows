{
 "cells": [
  {
   "cell_type": "markdown",
   "id": "d671a1da-94b0-4732-83d1-ffdc1801b110",
   "metadata": {},
   "source": [
    "# Match resources with suffix `in ground`\n",
    "\n",
    "There are many flows which are exactly the same, but where ecoinvent has the suffix `, in ground` which is missing in SimaPro, e.g.\n",
    "\n",
    "* Copper, 0.52% in sulfide, Cu 0.27% and Mo 8.2E-3% in crude ore\n",
    "* Copper, 0.52% in sulfide, Cu 0.27% and Mo 8.2E-3% in crude ore, in ground\n",
    "\n",
    "These are all natural resources; `('Resource', 'in ground')` in SimaPro, `('natural resource', 'in ground')` in ecoinvent."
   ]
  },
  {
   "cell_type": "code",
   "execution_count": 1,
   "id": "97dd6915-0af6-4563-8284-ad7b07d26036",
   "metadata": {},
   "outputs": [],
   "source": [
    "import pandas as pd\n",
    "from pathlib import Path\n",
    "from notebook_utils import finish_notebook"
   ]
  },
  {
   "cell_type": "code",
   "execution_count": 2,
   "id": "4aff657d-cb27-4dde-aea7-e3d907a6f55f",
   "metadata": {},
   "outputs": [],
   "source": [
    "input_data_dir = (Path.cwd().parent / \"Mapping\" / \"Input\" / \"Flowlists\").resolve()"
   ]
  },
  {
   "cell_type": "code",
   "execution_count": 3,
   "id": "df061563-9872-4d69-93de-b7aac700c31f",
   "metadata": {},
   "outputs": [],
   "source": [
    "sp = pd.read_csv(input_data_dir / 'SimaProv9.4.csv')"
   ]
  },
  {
   "cell_type": "markdown",
   "id": "178a0950-55b9-4ad5-8bb1-49ccd6104afa",
   "metadata": {},
   "source": [
    "Add additional column to `sp` with `in ground`"
   ]
  },
  {
   "cell_type": "code",
   "execution_count": 4,
   "id": "b0f96afe-7476-4a88-bfe7-cdfc28db0c9d",
   "metadata": {},
   "outputs": [],
   "source": [
    "sp['plus_in_ground'] = sp.Flowable.apply(lambda x: x + \", in ground\")"
   ]
  },
  {
   "cell_type": "markdown",
   "id": "660ba6bd-c3f9-431f-8978-d2e5de8d9f6f",
   "metadata": {},
   "source": [
    "Filter to only consider natural resources:"
   ]
  },
  {
   "cell_type": "code",
   "execution_count": 5,
   "id": "f2938c54-de0f-4e71-bf8a-31e40b4b6f46",
   "metadata": {},
   "outputs": [],
   "source": [
    "sp = sp[sp.Context == 'Raw materials']"
   ]
  },
  {
   "cell_type": "code",
   "execution_count": 6,
   "id": "f9b61570-d3dc-4549-9814-02002d94171a",
   "metadata": {},
   "outputs": [],
   "source": [
    "ei = pd.read_csv(input_data_dir / 'ecoinventEFv3.7.csv')"
   ]
  },
  {
   "cell_type": "code",
   "execution_count": 7,
   "id": "4679c1b8-cd17-46c5-ad20-6b037f900d3a",
   "metadata": {},
   "outputs": [],
   "source": [
    "df = sp.merge(ei, how=\"inner\", left_on=\"plus_in_ground\", right_on=\"Flowable\")"
   ]
  },
  {
   "cell_type": "code",
   "execution_count": 8,
   "id": "2ee3b53a-6b17-40d3-bf9c-a9b001385852",
   "metadata": {},
   "outputs": [],
   "source": [
    "finish_notebook(\n",
    "    df=df,\n",
    "    author=\"Chris Mutel\",\n",
    "    notebook_name=\"Match - Resources with suffix in ground\",\n",
    "    filename=\"resources-with-in-ground-suffix\",\n",
    ")"
   ]
  }
 ],
 "metadata": {
  "kernelspec": {
   "display_name": "Python 3 (ipykernel)",
   "language": "python",
   "name": "python3"
  },
  "language_info": {
   "codemirror_mode": {
    "name": "ipython",
    "version": 3
   },
   "file_extension": ".py",
   "mimetype": "text/x-python",
   "name": "python",
   "nbconvert_exporter": "python",
   "pygments_lexer": "ipython3",
   "version": "3.11.0"
  }
 },
 "nbformat": 4,
 "nbformat_minor": 5
}
