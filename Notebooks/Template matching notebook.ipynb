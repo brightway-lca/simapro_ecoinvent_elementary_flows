{
 "cells": [
  {
   "cell_type": "markdown",
   "id": "d671a1da-94b0-4732-83d1-ffdc1801b110",
   "metadata": {},
   "source": [
    "# Template matching notebook\n",
    "\n",
    "This notebook provides some basic functionality to allow for flow matching and saving in the correct format.\n",
    "\n",
    "## Basic setup\n",
    "\n",
    "Import libraries and utilities, setup directories, and read input data"
   ]
  },
  {
   "cell_type": "code",
   "execution_count": 1,
   "id": "97dd6915-0af6-4563-8284-ad7b07d26036",
   "metadata": {},
   "outputs": [],
   "source": [
    "import pandas as pd\n",
    "from pathlib import Path\n",
    "from datetime import datetime, timezone\n",
    "from notebook_utils import finish_notebook"
   ]
  },
  {
   "cell_type": "markdown",
   "id": "43643949-e038-412f-9b68-246389aa7ee0",
   "metadata": {},
   "source": [
    "Get paths of input and output directories"
   ]
  },
  {
   "cell_type": "code",
   "execution_count": null,
   "id": "4aff657d-cb27-4dde-aea7-e3d907a6f55f",
   "metadata": {},
   "outputs": [],
   "source": [
    "input_data_dir = (Path.cwd().parent / \"Mapping\" / \"Input\" / \"Flowlists\").resolve()\n",
    "existing_matches_dir = (Path.cwd().parent / \"Mapping\" / \"Output\" / \"Mapped_files\").resolve()\n",
    "output_dir = (Path.cwd().parent / \"Contribute\").resolve()"
   ]
  },
  {
   "cell_type": "markdown",
   "id": "99f057e2-4cc1-4ad1-8a97-eb6a523b0d1e",
   "metadata": {},
   "source": [
    "Read input dataframes"
   ]
  },
  {
   "cell_type": "code",
   "execution_count": null,
   "id": "df061563-9872-4d69-93de-b7aac700c31f",
   "metadata": {},
   "outputs": [],
   "source": [
    "sp = pd.read_csv(input_data_dir / 'SimaProv9.4.csv')"
   ]
  },
  {
   "cell_type": "code",
   "execution_count": null,
   "id": "f9b61570-d3dc-4549-9814-02002d94171a",
   "metadata": {},
   "outputs": [],
   "source": [
    "ei = pd.read_csv(input_data_dir / 'ecoinventEFv3.7.csv')"
   ]
  },
  {
   "cell_type": "markdown",
   "id": "e1fcd18d-5f0a-4422-8012-1a2d0d0b9863",
   "metadata": {},
   "source": [
    "## Merge some SimaPro and ecoinvent flows\n",
    "\n",
    "Example of how to combine dataframes using [merge](https://pandas.pydata.org/docs/reference/api/pandas.DataFrame.merge.html). We already have these matches, this is only an example :) In actual use this will be more complicated, see the other `Merge` notebooks."
   ]
  },
  {
   "cell_type": "code",
   "execution_count": null,
   "id": "4679c1b8-cd17-46c5-ad20-6b037f900d3a",
   "metadata": {},
   "outputs": [],
   "source": [
    "df = sp.merge(ei, how=\"inner\", left_on=\"Flowable\", right_on=\"Flowable\")\n",
    "len(df)"
   ]
  },
  {
   "cell_type": "markdown",
   "id": "9b0d3273-0ba6-4e44-bdd7-3cc52b1377ac",
   "metadata": {},
   "source": [
    "## Finishing Up\n",
    "\n",
    "The function `finish_notebook`, given in the file `notebook_utils.py` does the following:\n",
    "\n",
    "1. Adjust columns to match expected format (function `fix_names_after_merge`). Changes columns names after merging to meet expected format.\n",
    "2. Add common but missing columns to match expected format (function `add_common_columns`).\n",
    "3. Check that required columns are present (function `check_required_columns`).\n",
    "4. Export the dataframe to the `Contribute` directory (function `export_dataframe`).\n",
    "\n",
    "The function `finish_notebook` takes the following input arguments:\n",
    "\n",
    "* `df`: The merged dataframe (`pd.DataFrame`).\n",
    "* `author`: Your name (`str`).\n",
    "* `notebook_name`: Name of this notebook (`str`); we can't figure this out automatically. It should normally start with `Match -`.\n",
    "* `filename`: Name of CSV file to create; please make it meaningful (`str`).\n",
    "* `output_dir`: Directory to write exported CSV file to; default is `../Contribute` (`pathlib.Path`). \n",
    "* `default_match_condition`: Condition to add when not already given in matching dataframe; one of `=`, `~`, `<`, or `>` (`str`)."
   ]
  },
  {
   "cell_type": "code",
   "execution_count": null,
   "id": "12e658d1-af2e-4b51-9ab5-a12fab6a5748",
   "metadata": {},
   "outputs": [],
   "source": [
    "finish_notebook(\n",
    "    df=df,\n",
    "    author=\"Someone\",\n",
    "    notebook_name=\"Match - Something\",\n",
    "    filename=\"Something\",\n",
    ")"
   ]
  }
 ],
 "metadata": {
  "kernelspec": {
   "display_name": "Python 3 (ipykernel)",
   "language": "python",
   "name": "python3"
  },
  "language_info": {
   "codemirror_mode": {
    "name": "ipython",
    "version": 3
   },
   "file_extension": ".py",
   "mimetype": "text/x-python",
   "name": "python",
   "nbconvert_exporter": "python",
   "pygments_lexer": "ipython3",
   "version": "3.11.0"
  }
 },
 "nbformat": 4,
 "nbformat_minor": 5
}
